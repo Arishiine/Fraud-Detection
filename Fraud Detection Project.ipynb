{
 "cells": [
  {
   "cell_type": "markdown",
   "id": "d4e57d15-e2cb-47da-819b-1b02321dc3f2",
   "metadata": {},
   "source": [
    "# FRAUD DETECTION PROJECT"
   ]
  },
  {
   "cell_type": "markdown",
   "id": "505089d5-0f50-44a8-a283-4f76caacba66",
   "metadata": {},
   "source": [
    "## PROJECT OVERVIEW"
   ]
  },
  {
   "cell_type": "markdown",
   "id": "66bbcf25-dd13-41f1-a031-acc4ca1c6d92",
   "metadata": {},
   "source": [
    "## BUSINESS UNDERSTANDING"
   ]
  },
  {
   "cell_type": "markdown",
   "id": "55c8ee3c-83a5-4e5f-be21-afa37dc93d84",
   "metadata": {},
   "source": [
    "## DATA UNDERSTANDING"
   ]
  },
  {
   "cell_type": "markdown",
   "id": "5ca61be2-2cdd-4b45-9c94-fa74ce074e15",
   "metadata": {},
   "source": [
    "* The data was sourced from [Kaggle](https://www.kaggle.com/datasets/samayashar/fraud-detection-transactions-dataset/data)\n",
    "* The dataset contains the following variables:\n",
    "   - **Transaction_ID**-Unique identifier for each transaction\n",
    "   - **User_ID**-Unique identifier for the user\n",
    "   - **Transaction_Amount**-Amount of money involved in the transaction\n",
    "   - **Transaction_Type**-Type of transaction (Online, In-Store, ATM, etc.)\n",
    "   - **Timestamp**-Date and time of the transaction\n",
    "   - **Account_Balance**-User's current account balance before the transaction\n",
    "   - **Device_Type**-Type of device used (Mobile, Desktop, etc.)\n",
    "   - **Location**-Geographical location of the transaction\n",
    "   - **Merchant_Category**-Type of merchant (Retail, Food, Travel, etc.)\n",
    "   - **IP_Address_Flag**-Whether the IP address was flagged as suspicious (0 or 1)\n",
    "   - **Previous_Fraudulent_Activity**-Number of past fraudulent activities by the user\n",
    "   - **Daily_Transaction_Count**-Number of transactions made by the user that day\n",
    "   - **Avg_Transaction_Amount_7d**-User's average transaction amount in the past 7 days\n",
    "   - **Failed_Transaction_Count_7d**-Count of failed transactions in the past 7 days\n",
    "   - **Card_Type**-Type of payment card used (Credit, Debit, Prepaid, etc.)\n",
    "   - **Card_Age**-Age of the card in months\n",
    "   - **Transaction_Distance**-Distance between the user's usual location and transaction location\n",
    "   - **Authentication_Method**-How the user authenticated (PIN, Biometric, etc.)\n",
    "   - **Risk_Score**-Fraud risk score computed for the transaction\n",
    "   - **Is_Weekend**-Whether the transaction occurred on a weekend (0 or 1)\n",
    "   - **Fraud_Label**-Target variable (0 = Not Fraud, 1 = Fraud)"
   ]
  },
  {
   "cell_type": "markdown",
   "id": "cb1cf972-ef77-4eda-933f-28546ddcc68d",
   "metadata": {},
   "source": [
    "## DATA CLEANING AND PREPARATION\n"
   ]
  },
  {
   "cell_type": "code",
   "execution_count": null,
   "id": "4429edca-1f40-452b-9d80-a1d218b2f989",
   "metadata": {},
   "outputs": [],
   "source": []
  }
 ],
 "metadata": {
  "kernelspec": {
   "display_name": "Python 3 (ipykernel)",
   "language": "python",
   "name": "python3"
  },
  "language_info": {
   "codemirror_mode": {
    "name": "ipython",
    "version": 3
   },
   "file_extension": ".py",
   "mimetype": "text/x-python",
   "name": "python",
   "nbconvert_exporter": "python",
   "pygments_lexer": "ipython3",
   "version": "3.11.9"
  }
 },
 "nbformat": 4,
 "nbformat_minor": 5
}
